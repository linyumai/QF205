{
 "cells": [
  {
   "cell_type": "code",
   "execution_count": 11,
   "metadata": {
    "scrolled": true
   },
   "outputs": [
    {
     "name": "stdout",
     "output_type": "stream",
     "text": [
      "20\n",
      "1\n"
     ]
    }
   ],
   "source": [
    "from pz_modules import *\n",
    "\n",
    "# Initialize pygame\n",
    "pygame_init = pygame.init()\n",
    "pygame.display.set_caption(\"QF205 PythonZ Game\")\n",
    "game_surface = pygame.display.set_mode((500, 700))\n",
    "\n",
    "# Initialize Drawer\n",
    "drawer = Drawer(game_surface)\n",
    "\n",
    "# Initialize Loops\n",
    "loops = Loops(drawer)\n",
    "\n",
    "while True: \n",
    "    # Get game's frame's per second \n",
    "    fps = loops.menu_loop()\n",
    "    print(fps)\n",
    "    final_score = loops.game_loop(fps)\n",
    "    print(final_score)\n",
    "    break\n",
    "\n",
    "\n"
   ]
  },
  {
   "cell_type": "code",
   "execution_count": 12,
   "metadata": {},
   "outputs": [],
   "source": [
    "\n",
    "pygame.quit()       \n",
    "   "
   ]
  },
  {
   "cell_type": "code",
   "execution_count": null,
   "metadata": {},
   "outputs": [],
   "source": []
  }
 ],
 "metadata": {
  "kernelspec": {
   "display_name": "Python 3",
   "language": "python",
   "name": "python3"
  },
  "language_info": {
   "codemirror_mode": {
    "name": "ipython",
    "version": 3
   },
   "file_extension": ".py",
   "mimetype": "text/x-python",
   "name": "python",
   "nbconvert_exporter": "python",
   "pygments_lexer": "ipython3",
   "version": "3.7.1"
  }
 },
 "nbformat": 4,
 "nbformat_minor": 2
}
