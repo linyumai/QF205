{
 "cells": [
  {
   "cell_type": "code",
   "execution_count": 1,
   "metadata": {
    "scrolled": false
   },
   "outputs": [
    {
     "name": "stdout",
     "output_type": "stream",
     "text": [
      "User exit\n"
     ]
    }
   ],
   "source": [
    "from pz_modules import *\n",
    "\n",
    "# Initialize pygame\n",
    "pygame_init = pygame.init()\n",
    "pygame.display.set_caption(\"QF205 PythonZ Game\")\n",
    "game_surface = pygame.display.set_mode((500, 700))\n",
    "\n",
    "# Initialize Drawer\n",
    "drawer = Drawer(game_surface)\n",
    "\n",
    "# Initialize Loops\n",
    "loops = Loops(drawer)\n",
    "\n",
    "while True: \n",
    "    # Get game's frame's per second \n",
    "    try:\n",
    "        fps = loops.menu_loop()\n",
    "        final_score, max_score = loops.game_loop(fps)\n",
    "        loops.dead_loop(final_score, max_score)\n",
    "    except SystemExit:\n",
    "        print(\"User exit\")\n",
    "        break\n",
    "    except ValueError as ve:\n",
    "        print(ve)\n",
    "        break\n",
    "    except:\n",
    "        print(\"Unexpected error:\", sys.exc_info()[0])\n",
    "        break\n",
    "        \n",
    "    \n",
    "\n",
    "\n"
   ]
  },
  {
   "cell_type": "code",
   "execution_count": null,
   "metadata": {},
   "outputs": [],
   "source": []
  }
 ],
 "metadata": {
  "kernelspec": {
   "display_name": "Python 3",
   "language": "python",
   "name": "python3"
  },
  "language_info": {
   "codemirror_mode": {
    "name": "ipython",
    "version": 3
   },
   "file_extension": ".py",
   "mimetype": "text/x-python",
   "name": "python",
   "nbconvert_exporter": "python",
   "pygments_lexer": "ipython3",
   "version": "3.7.1"
  }
 },
 "nbformat": 4,
 "nbformat_minor": 2
}
