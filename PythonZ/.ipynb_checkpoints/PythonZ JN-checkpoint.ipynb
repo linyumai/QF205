{
 "cells": [
  {
   "cell_type": "code",
   "execution_count": 1,
   "metadata": {},
   "outputs": [
    {
     "name": "stdout",
     "output_type": "stream",
     "text": [
      "This is the content of the book. Try https://www.python.org/dev/peps/pep-0008/#function-and-variable-names\n"
     ]
    }
   ],
   "source": [
    "name_of_book = \"This is the content of the book. Try https://www.python.org/dev/peps/pep-0008/#function-and-variable-names\"\n",
    "print(name_of_book)"
   ]
  },
  {
   "cell_type": "code",
   "execution_count": 2,
   "metadata": {},
   "outputs": [
    {
     "name": "stdout",
     "output_type": "stream",
     "text": [
      "[100, 240]\n"
     ]
    }
   ],
   "source": [
    "python_head_block = [100, 240]\n",
    "print(python_head_block)"
   ]
  },
  {
   "cell_type": "code",
   "execution_count": 3,
   "metadata": {},
   "outputs": [
    {
     "name": "stdout",
     "output_type": "stream",
     "text": [
      "[100, 240]\n",
      "1\n"
     ]
    }
   ],
   "source": [
    "print(python_head_block)\n",
    "python_head_block = 1\n",
    "print(python_head_block)"
   ]
  },
  {
   "cell_type": "code",
   "execution_count": 4,
   "metadata": {},
   "outputs": [
    {
     "name": "stdout",
     "output_type": "stream",
     "text": [
      "[[100, 240], [90, 240], [80, 240], [70, 240], [60, 240]]\n"
     ]
    }
   ],
   "source": [
    "python = [[100, 240], [90, 240], [80,240], [70,240], [60,240]]\n",
    "print(python)"
   ]
  },
  {
   "cell_type": "code",
   "execution_count": 5,
   "metadata": {},
   "outputs": [
    {
     "name": "stdout",
     "output_type": "stream",
     "text": [
      "[[100, 240], [90, 240], [80, 240], [70, 240], [60, 240]]\n"
     ]
    }
   ],
   "source": [
    "python = []\n",
    "for i in range(100, 50, -10):\n",
    "    python.append([i,240])\n",
    "print(python)"
   ]
  },
  {
   "cell_type": "code",
   "execution_count": 6,
   "metadata": {},
   "outputs": [
    {
     "name": "stdout",
     "output_type": "stream",
     "text": [
      "[[100, 240], [90, 240], [80, 240], [70, 240], [60, 240]]\n"
     ]
    }
   ],
   "source": [
    "python = []\n",
    "i = 100\n",
    "while i > 50:\n",
    "    python.append([i,240])\n",
    "    i = i - 10\n",
    "print(python)"
   ]
  },
  {
   "cell_type": "code",
   "execution_count": 7,
   "metadata": {},
   "outputs": [
    {
     "name": "stdout",
     "output_type": "stream",
     "text": [
      "[[100, 240], [90, 240], [80, 240], [70, 240], [60, 240]]\n"
     ]
    }
   ],
   "source": [
    "python = [[i, 240] for i in range(100, 50, -10)]\n",
    "print(python)"
   ]
  },
  {
   "cell_type": "code",
   "execution_count": 8,
   "metadata": {},
   "outputs": [],
   "source": [
    "description = [\"head\", \"body 1\", \"body 2\", \"body 3\", \"tail\"] "
   ]
  },
  {
   "cell_type": "code",
   "execution_count": 9,
   "metadata": {},
   "outputs": [
    {
     "name": "stdout",
     "output_type": "stream",
     "text": [
      "[('head', [100, 240]), ('body 1', [90, 240]), ('body 2', [80, 240]), ('body 3', [70, 240]), ('tail', [60, 240])]\n"
     ]
    }
   ],
   "source": [
    "python_with_labels = zip(description, python)\n",
    "print([item for item in python_with_labels])"
   ]
  },
  {
   "cell_type": "code",
   "execution_count": 10,
   "metadata": {},
   "outputs": [
    {
     "name": "stdout",
     "output_type": "stream",
     "text": [
      "[(0, [100, 240]), (1, [90, 240]), (2, [80, 240]), (3, [70, 240]), (4, [60, 240])]\n"
     ]
    }
   ],
   "source": [
    "description = [0,1,2,3,4]\n",
    "print([item for item in zip(description, python)])"
   ]
  },
  {
   "cell_type": "code",
   "execution_count": 11,
   "metadata": {},
   "outputs": [
    {
     "name": "stdout",
     "output_type": "stream",
     "text": [
      "[10, 0]\n"
     ]
    }
   ],
   "source": [
    "RIGHT = [10, 0]\n",
    "LEFT = [-10, 0]\n",
    "UP = [0, -10]\n",
    "DOWN = [0, 10]\n",
    "\n",
    "DIRECTIONS = {\n",
    "    \"right\" : RIGHT,\n",
    "    \"left\" : LEFT,\n",
    "    \"up\" : UP,\n",
    "    \"down\" : DOWN,\n",
    "}\n",
    "print(DIRECTIONS[\"right\"])"
   ]
  },
  {
   "cell_type": "code",
   "execution_count": 12,
   "metadata": {},
   "outputs": [],
   "source": [
    "current_direction = RIGHT\n",
    "new_direction = current_direction"
   ]
  },
  {
   "cell_type": "code",
   "execution_count": 13,
   "metadata": {},
   "outputs": [
    {
     "name": "stdout",
     "output_type": "stream",
     "text": [
      "[100, 240]\n"
     ]
    }
   ],
   "source": [
    "head_block = python[0]\n",
    "print(head_block)"
   ]
  },
  {
   "cell_type": "code",
   "execution_count": 14,
   "metadata": {},
   "outputs": [],
   "source": [
    "block = [100, 240]"
   ]
  },
  {
   "cell_type": "code",
   "execution_count": 15,
   "metadata": {},
   "outputs": [
    {
     "data": {
      "text/plain": [
       "[100, 240, 10, 0]"
      ]
     },
     "execution_count": 15,
     "metadata": {},
     "output_type": "execute_result"
    }
   ],
   "source": [
    "block + RIGHT"
   ]
  },
  {
   "cell_type": "code",
   "execution_count": 16,
   "metadata": {},
   "outputs": [
    {
     "name": "stdout",
     "output_type": "stream",
     "text": [
      "[110, 240]\n"
     ]
    }
   ],
   "source": [
    "new_block = [a + b for a, b in zip(block, current_direction)]\n",
    "print(new_block)"
   ]
  },
  {
   "cell_type": "code",
   "execution_count": 17,
   "metadata": {},
   "outputs": [
    {
     "name": "stdout",
     "output_type": "stream",
     "text": [
      "Moving  right  from  [100, 240]  to  [110, 240]\n",
      "Moving  left  from  [100, 240]  to  [90, 240]\n",
      "Moving  up  from  [100, 240]  to  [100, 230]\n",
      "Moving  down  from  [100, 240]  to  [100, 250]\n"
     ]
    }
   ],
   "source": [
    "def new_head_position(direction, python_head):\n",
    "    new_head_block = [a + b for a, b in zip(python_head, direction)]\n",
    "    return new_head_block\n",
    "\n",
    "for direction_label in DIRECTIONS:\n",
    "    print(\"Moving \" , direction_label, \" from \", python[0], \" to \", new_head_position(DIRECTIONS[direction_label], python[0]))"
   ]
  },
  {
   "cell_type": "code",
   "execution_count": 18,
   "metadata": {},
   "outputs": [],
   "source": [
    "import pandas"
   ]
  },
  {
   "cell_type": "code",
   "execution_count": 19,
   "metadata": {},
   "outputs": [
    {
     "name": "stdout",
     "output_type": "stream",
     "text": [
      "   answer                    question\n",
      "0        1               is QF205 Fun\n",
      "1        1  QF205 is the best module \n",
      "2        0            Class is boring\n",
      "3        1         QF205 is enjoyable\n",
      "4        0          The earth is flat\n",
      "5        1          QF205 is the best\n",
      "6        0     I am smarter than prof\n"
     ]
    }
   ],
   "source": [
    "question_bank = pandas.read_excel(\"assets/gamedata.xlsx\")\n",
    "print(question_bank)"
   ]
  },
  {
   "cell_type": "code",
   "execution_count": 20,
   "metadata": {},
   "outputs": [],
   "source": [
    "max_score = len(question_bank)"
   ]
  },
  {
   "cell_type": "code",
   "execution_count": 21,
   "metadata": {},
   "outputs": [],
   "source": [
    "import random"
   ]
  },
  {
   "cell_type": "code",
   "execution_count": 22,
   "metadata": {},
   "outputs": [
    {
     "name": "stdout",
     "output_type": "stream",
     "text": [
      "([420, 30], [40, 330])\n"
     ]
    }
   ],
   "source": [
    "def generate_new_answer_positions(python):\n",
    "    false_pos = [random.randrange(1,50)*10,random.randrange(1,50)*10]\n",
    "    while false_pos in python:\n",
    "        false_pos = [random.randrange(1,50)*10,random.randrange(1,50)*10]\n",
    "    true_pos = [random.randrange(1,50)*10,random.randrange(1,50)*10]\n",
    "    while true_pos == false_pos or true_pos in python:\n",
    "        true_pos = [random.randrange(1,50)*10,random.randrange(1,50)*10]\n",
    "    return false_pos, true_pos\n",
    "print(generate_new_answer_positions(python))"
   ]
  },
  {
   "cell_type": "code",
   "execution_count": 23,
   "metadata": {},
   "outputs": [
    {
     "name": "stdout",
     "output_type": "stream",
     "text": [
      "randomly generated false position value:  [480, 20]\n",
      "randomly generated true position value:  [280, 40]\n"
     ]
    }
   ],
   "source": [
    "false, true = generate_new_answer_positions(python)\n",
    "print(\"randomly generated false position value: \", false)\n",
    "print(\"randomly generated true position value: \", true)"
   ]
  },
  {
   "cell_type": "code",
   "execution_count": 24,
   "metadata": {},
   "outputs": [
    {
     "name": "stdout",
     "output_type": "stream",
     "text": [
      "pygame 1.9.4\n",
      "Hello from the pygame community. https://www.pygame.org/contribute.html\n"
     ]
    }
   ],
   "source": [
    "import sys, pygame"
   ]
  },
  {
   "cell_type": "code",
   "execution_count": 25,
   "metadata": {},
   "outputs": [],
   "source": [
    "USER_INPUT = {\n",
    "    pygame.K_RIGHT : \"right\",\n",
    "    pygame.K_LEFT : \"left\",\n",
    "    pygame.K_UP : \"up\",\n",
    "    pygame.K_DOWN : \"down\",\n",
    "}"
   ]
  },
  {
   "cell_type": "code",
   "execution_count": 26,
   "metadata": {},
   "outputs": [],
   "source": [
    "def check_what_keypress(event):\n",
    "    if event.type == pygame.QUIT:\n",
    "        pygame.quit()\n",
    "        sys.exit()\n",
    "    elif event.type == pygame.KEYDOWN:\n",
    "        if event.key == pygame.K_ESCAPE:\n",
    "            pygame.event.post(pygame.event.Event(pygame.QUIT))\n",
    "        elif event.key in USER_INPUT:\n",
    "            return USER_INPUT[event.key]\n",
    "    return None\n",
    "\n",
    "def check_all_keypress():\n",
    "    direction = None\n",
    "    for event in pygame.event.get():\n",
    "        user_keypress = check_what_keypress(event)\n",
    "        \n",
    "        if user_keypress is not None:\n",
    "            direction = user_keypress\n",
    "    return direction"
   ]
  },
  {
   "cell_type": "code",
   "execution_count": 27,
   "metadata": {},
   "outputs": [],
   "source": [
    "from Drawer import *"
   ]
  },
  {
   "cell_type": "code",
   "execution_count": 28,
   "metadata": {},
   "outputs": [],
   "source": [
    "pygame_init = pygame.init()\n",
    "pygame.display.set_caption(\"QF205 PythonZ Game\")\n",
    "game_surface = pygame.display.set_mode((500, 700))\n",
    "drawer = Drawer(game_surface)"
   ]
  },
  {
   "cell_type": "code",
   "execution_count": 29,
   "metadata": {},
   "outputs": [],
   "source": [
    "INPUT_DIFFICULTY = {\n",
    "    \"right\" : 20,\n",
    "    \"down\" : 10,\n",
    "    \"left\" : 35,\n",
    "    \"up\" : 50\n",
    "}"
   ]
  },
  {
   "cell_type": "code",
   "execution_count": 30,
   "metadata": {},
   "outputs": [],
   "source": [
    "def menu_loop():\n",
    "    pygame.event.clear()\n",
    "    drawer.reset_surface()\n",
    "    drawer.text(\"R key: Medium, D key: Easy, L key: Hard, U key: Extreme\", True)\n",
    "    pygame.display.flip()\n",
    "    while True: \n",
    "        result = check_what_keypress(pygame.event.poll())\n",
    "        if result is not None:\n",
    "            #pygame.quit() # to be deleted after\n",
    "            return INPUT_DIFFICULTY[result]\n",
    "#menu_loop()"
   ]
  },
  {
   "cell_type": "code",
   "execution_count": 31,
   "metadata": {},
   "outputs": [],
   "source": [
    "def game_loop(fps):\n",
    "    python = [[i, 240] for i in range(100, 50, -10)]\n",
    "    false, true = [350, 350], [350, 150]\n",
    "    current_direction = RIGHT\n",
    "    new_direction = current_direction\n",
    "    fps_controller = pygame.time.Clock()\n",
    "    score = 0\n",
    "    alive = True\n",
    "    get_next_question = False\n",
    "    while alive:\n",
    "        answer, question = question_bank.iloc[score]\n",
    "        movement = check_all_keypress()\n",
    "        if movement is not None:\n",
    "            new_direction = DIRECTIONS[movement]\n",
    "            \n",
    "            if new_direction == RIGHT and current_direction != LEFT:\n",
    "                current_direction = new_direction\n",
    "            elif new_direction == LEFT and current_direction != RIGHT:\n",
    "                current_direction = new_direction\n",
    "            elif new_direction == UP and current_direction != DOWN:\n",
    "                current_direction = new_direction\n",
    "            elif new_direction == DOWN and current_direction != UP:\n",
    "                current_direction = new_direction\n",
    "        \n",
    "        new_block = new_head_position(current_direction, python[0])\n",
    "        \n",
    "        python.insert(0, new_block)\n",
    "        \n",
    "        if new_block in [false, true]:\n",
    "            if (answer == 1 and new_block == true) or (answer == 0 and new_block == false):\n",
    "                score += 1\n",
    "                if score == max_score:\n",
    "                    alive = False\n",
    "                else:\n",
    "                    get_next_question = True\n",
    "            else:\n",
    "                alive = False\n",
    "        elif new_block in python[1:]:\n",
    "            alive = False\n",
    "        elif new_block[0] > 490 or new_block[0] < 0:\n",
    "            alive = False\n",
    "        elif new_block[1] > 490 or new_block[1] <  0:\n",
    "            alive = False\n",
    "        elif alive:\n",
    "            python.pop()\n",
    "        \n",
    "        if get_next_question:\n",
    "            false, true = generate_new_answer_positions(python)\n",
    "            get_next_question = False\n",
    "        \n",
    "        drawer.reset_surface()\n",
    "        drawer.snake(python)\n",
    "        drawer.answers(false, true)\n",
    "        drawer.border()\n",
    "        drawer.score(score)\n",
    "        drawer.text(question)\n",
    "        pygame.display.flip()\n",
    "        \n",
    "        fps_controller.tick(fps)\n",
    "    return max_score, score\n"
   ]
  },
  {
   "cell_type": "code",
   "execution_count": 32,
   "metadata": {},
   "outputs": [
    {
     "name": "stdout",
     "output_type": "stream",
     "text": [
      "Max score:  7\n",
      "Player score:  0\n",
      "User initiated exit. Closing Game!\n"
     ]
    }
   ],
   "source": [
    "while True:\n",
    "    try:\n",
    "        fps = menu_loop()\n",
    "        question_bank = question_bank.sample(frac=1).reset_index(drop=True)\n",
    "        max_score, score = game_loop(fps)\n",
    "        print(\"Max score: \",max_score)\n",
    "        print(\"Player score: \", score)\n",
    "    except Exception as e:\n",
    "        print(\"Hi! Error has occured: \", sys.exc_info()[0])\n",
    "        print(e)\n",
    "        break\n",
    "    except SystemExit:\n",
    "        print(\"User initiated exit. Closing Game!\")\n",
    "        pygame.quit()\n",
    "        break"
   ]
  },
  {
   "cell_type": "code",
   "execution_count": 33,
   "metadata": {},
   "outputs": [],
   "source": [
    "def result_page(max_score, score):\n",
    "    pygame.event.clear()\n",
    "    result_remarks = \"Game over! The max score is: {0}\".format(max_score)\n",
    "    if score == max_score:\n",
    "        result_remarks = \"Max Score! Double Confirm QF205 get A+\"\n",
    "       \n",
    "    drawer.reset_surface()\n",
    "    drawer.text(\"Press any arrow key to play again. Press ESC to quit.\", True)\n",
    "    drawer.end_remarks(result_remarks)\n",
    "    drawer.score(score)\n",
    "    pygame.display.flip()\n",
    "    \n",
    "    while True:\n",
    "        result = check_what_keypress(pygame.event.poll())\n",
    "        if result is not None:\n",
    "                break"
   ]
  },
  {
   "cell_type": "code",
   "execution_count": 34,
   "metadata": {},
   "outputs": [
    {
     "name": "stdout",
     "output_type": "stream",
     "text": [
      "User initiated exit. Closing Game!\n"
     ]
    }
   ],
   "source": [
    "pygame_init = pygame.init()\n",
    "pygame.display.set_caption(\"QF205 PythonZ Game\")\n",
    "game_surface = pygame.display.set_mode((500, 700))\n",
    "drawer = Drawer(game_surface)\n",
    "\n",
    "while True:\n",
    "    try:\n",
    "        fps = menu_loop()\n",
    "        question_bank = question_bank.sample(frac=1).reset_index(drop=True)\n",
    "        max_score, score = game_loop(fps)\n",
    "        result_page(max_score, score)\n",
    "    except SystemExit:\n",
    "        print(\"User initiated exit. Closing Game!\")\n",
    "        pygame.quit()\n",
    "        break"
   ]
  }
 ],
 "metadata": {
  "kernelspec": {
   "display_name": "Python 3",
   "language": "python",
   "name": "python3"
  },
  "language_info": {
   "codemirror_mode": {
    "name": "ipython",
    "version": 3
   },
   "file_extension": ".py",
   "mimetype": "text/x-python",
   "name": "python",
   "nbconvert_exporter": "python",
   "pygments_lexer": "ipython3",
   "version": "3.7.1"
  }
 },
 "nbformat": 4,
 "nbformat_minor": 2
}
